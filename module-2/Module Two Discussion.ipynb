{
 "cells": [
  {
   "cell_type": "markdown",
   "metadata": {},
   "source": [
    "# Module Two Discussion: The Central Limit Theorem\n"
   ]
  },
  {
   "cell_type": "markdown",
   "metadata": {},
   "source": [
    "### Step 1: Generating population data"
   ]
  },
  {
   "cell_type": "code",
   "execution_count": 10,
   "metadata": {},
   "outputs": [
    {
     "name": "stdout",
     "output_type": "stream",
     "text": [
      "TPCP data frame\n",
      "\n",
      "       TPCP\n",
      "0     820.0\n",
      "1     534.0\n",
      "2     179.0\n",
      "3    1079.0\n",
      "4     399.0\n",
      "..      ...\n",
      "495   241.0\n",
      "496   309.0\n",
      "497   993.0\n",
      "498   100.0\n",
      "499   345.0\n",
      "\n",
      "[500 rows x 1 columns]\n"
     ]
    }
   ],
   "source": [
    "import pandas as pd\n",
    "import matplotlib.pyplot as plt\n",
    "import numpy as np\n",
    "import scipy.stats as st\n",
    "\n",
    "# use gamma distribution to randomly generate 500 observations. \n",
    "shape, scale = 1.95, 2.5\n",
    "tpcp = 100*np.random.gamma(shape, scale, 500)\n",
    "\n",
    "# pandas library can be used to convert the array into a dataframe of rounded figures with the column name TPCP.\n",
    "tpcp_df = pd.DataFrame(tpcp, columns=['TPCP'])\n",
    "tpcp_df = tpcp_df.round(0)\n",
    "\n",
    "# print the dataframe to see the first 5 and last 5 observations (note that the index of dataframe starts at 0).\n",
    "print(\"TPCP data frame\\n\")\n",
    "print(tpcp_df)"
   ]
  },
  {
   "cell_type": "markdown",
   "metadata": {},
   "source": [
    "### Step 2: Creating a histogram plot of population data"
   ]
  },
  {
   "cell_type": "code",
   "execution_count": 11,
   "metadata": {},
   "outputs": [
    {
     "data": {
      "image/png": "[encoded data removed]",
      "text/plain": [
       "<Figure size 432x288 with 1 Axes>"
      ]
     },
     "metadata": {
      "needs_background": "light"
     },
     "output_type": "display_data"
    }
   ],
   "source": [
    "# create a figure for the plot. \n",
    "fig, ax = plt.subplots()\n",
    "\n",
    "# create a histogram plot with 50 bins of TPCP population data. \n",
    "plt.hist(tpcp_df['TPCP'], bins=50)\n",
    "\n",
    "# set a title for the plot, x-axis, and y-axis.\n",
    "plt.title('TPCP population distribution', fontsize=20)\n",
    "ax.set_xlabel('TPCP')\n",
    "ax.set_ylabel('Frequency')\n",
    "\n",
    "# show the plot.\n",
    "plt.show()"
   ]
  },
  {
   "cell_type": "markdown",
   "metadata": {},
   "source": [
    "The Population mean is 505.58"
   ]
  },
  {
   "cell_type": "code",
   "execution_count": 12,
   "metadata": {},
   "outputs": [
    {
     "name": "stdout",
     "output_type": "stream",
     "text": [
      "Population mean = 503.02\n"
     ]
    }
   ],
   "source": [
    "# You can use the \"mean\" method of a pandas dataframe.\n",
    "pop_mean = tpcp_df['TPCP'].mean()\n",
    "print(\"Population mean =\", round(pop_mean,2))"
   ]
  },
  {
   "cell_type": "markdown",
   "metadata": {},
   "source": [
    "### Step 4: Drawing one random sample from the population data and calculating the sample mean\n",
    "Below is the sample mean. The sample mean is somewhat close to the population mean."
   ]
  },
  {
   "cell_type": "code",
   "execution_count": 13,
   "metadata": {},
   "outputs": [
    {
     "name": "stdout",
     "output_type": "stream",
     "text": [
      "Sample mean = 534.08\n"
     ]
    }
   ],
   "source": [
    "# use sample method of the dataframe to select a random sample, with replacement, of size 50.\n",
    "tpcp_sample_df = tpcp_df.sample(50, replace=True)\n",
    "\n",
    "# print the sample mean.\n",
    "sample_mean = tpcp_sample_df['TPCP'].mean()\n",
    "print(\"Sample mean =\", round(sample_mean,2))"
   ]
  },
  {
   "cell_type": "markdown",
   "metadata": {},
   "source": [
    "### Step 5: Repeatedly drawing samples and saving the sample mean for each sample"
   ]
  },
  {
   "cell_type": "code",
   "execution_count": 14,
   "metadata": {},
   "outputs": [
    {
     "name": "stdout",
     "output_type": "stream",
     "text": [
      "Dataframe of 1000 sample means\n",
      "\n",
      "      means\n",
      "0    524.76\n",
      "1    490.34\n",
      "2    535.56\n",
      "3    485.26\n",
      "4    545.20\n",
      "..      ...\n",
      "995  488.86\n",
      "996  429.86\n",
      "997  577.08\n",
      "998  467.64\n",
      "999  508.82\n",
      "\n",
      "[1000 rows x 1 columns]\n"
     ]
    }
   ],
   "source": [
    "# run a for loop to repeat the process Step 4 one thousand times to select one thousand samples.\n",
    "# save the mean of each sample that was drawn in a Python list called means_list.\n",
    "means_list = []\n",
    "for i in range(1000):\n",
    "    tpcp_sample_df = tpcp_df.sample(50, replace=True)\n",
    "    sample_mean = tpcp_sample_df['TPCP'].mean()\n",
    "    means_list.append(sample_mean)\n",
    "    \n",
    "# create a Python dataframe of means.\n",
    "means_df = pd.DataFrame(means_list, columns=['means'])\n",
    "print(\"Dataframe of 1000 sample means\\n\")\n",
    "print(means_df)"
   ]
  },
  {
   "cell_type": "markdown",
   "metadata": {},
   "source": [
    "### Step 6: Creating a histogram plot of the sample means from Step 5\n",
    "In the below does have normal distribution since there is a bell curve to the list of means. \n"
   ]
  },
  {
   "cell_type": "code",
   "execution_count": 15,
   "metadata": {
    "scrolled": true
   },
   "outputs": [
    {
     "data": {
      "image/png": "[encoded data removed]",
      "text/plain": [
       "<Figure size 432x288 with 1 Axes>"
      ]
     },
     "metadata": {
      "needs_background": "light"
     },
     "output_type": "display_data"
    }
   ],
   "source": [
    "# create a figure for the plot. \n",
    "fig, ax = plt.subplots()\n",
    "\n",
    "# create a histogram plot with 50 bins of 1,000 means. \n",
    "plt.hist(means_df['means'], bins=50)\n",
    "\n",
    "# set a title for the plot, x-axis and y-axis.\n",
    "plt.title('Distribution of 1000 sample means', fontsize=20) # title\n",
    "ax.set_xlabel('Means')\n",
    "ax.set_ylabel('Frequency')\n",
    "\n",
    "# show the plot.\n",
    "plt.show()"
   ]
  },
  {
   "cell_type": "markdown",
   "metadata": {},
   "source": [
    "### Step 7: Mean and the standard deviation of the sample mean distribution\n"
   ]
  },
  {
   "cell_type": "code",
   "execution_count": 16,
   "metadata": {},
   "outputs": [
    {
     "name": "stdout",
     "output_type": "stream",
     "text": [
      "Grand Mean (Mean of 1000 sample means) = 505.62\n",
      "Std Deviation of 1000 sample means = 49.3\n",
      "Probability that a specific mean is 450 or less = 0.1296\n"
     ]
    }
   ],
   "source": [
    "# calculate mean of the 1,000 sample means (this is called the grand mean or mean of the means).\n",
    "mean1000 = means_df['means'].mean()\n",
    "print(\"Grand Mean (Mean of 1000 sample means) =\",round(mean1000,2))\n",
    "\n",
    "# calculate standard deviation of the 1,000 sample means.\n",
    "std1000 = means_df['means'].std()\n",
    "print(\"Std Deviation of 1000 sample means =\",round(std1000,2))\n",
    "\n",
    "# print the probability that a specific mean is 450 or less for a Normal distribution with mean and standard deviation of 1,000 sample means.\n",
    "prob_450_less_or_equal = st.norm.cdf(450, mean1000, std1000)\n",
    "print(\"Probability that a specific mean is 450 or less =\", round(prob_450_less_or_equal,4))"
   ]
  }
 ],
 "metadata": {
  "kernelspec": {
   "display_name": "Python 3",
   "language": "python",
   "name": "python3"
  },
  "language_info": {
   "codemirror_mode": {
    "name": "ipython",
    "version": 3
   },
   "file_extension": ".py",
   "mimetype": "text/x-python",
   "name": "python",
   "nbconvert_exporter": "python",
   "pygments_lexer": "ipython3",
   "version": "3.10.1"
  }
 },
 "nbformat": 4,
 "nbformat_minor": 2
}
