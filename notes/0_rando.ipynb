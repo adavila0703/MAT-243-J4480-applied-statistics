{
 "cells": [
  {
   "cell_type": "code",
   "execution_count": 7,
   "metadata": {},
   "outputs": [
    {
     "name": "stdout",
     "output_type": "stream",
     "text": [
      "6.0\n"
     ]
    }
   ],
   "source": [
    "def find_weighted_mean(numbers: list, weights: list) -> int:\n",
    "    total_numbers = 0\n",
    "    total_weight = 0\n",
    "    for index, _ in enumerate(numbers):\n",
    "        n = numbers[index] * weights[index]\n",
    "        total_numbers += n\n",
    "        total_weight += weights[index]\n",
    "\n",
    "    return total_numbers / total_weight\n",
    "\n",
    "n = [20, 4, 1]\n",
    "w = [1,2,2]\n",
    "\n",
    "print(find_weighted_mean(n, w))\n"
   ]
  },
  {
   "cell_type": "code",
   "execution_count": null,
   "metadata": {},
   "outputs": [],
   "source": []
  }
 ],
 "metadata": {
  "interpreter": {
   "hash": "118673619f5b0bc106dd64d7c79e87dd6f1674b77de6024f4dedd4f9d181e84a"
  },
  "kernelspec": {
   "display_name": "Python 3.10.1 ('venv': venv)",
   "language": "python",
   "name": "python3"
  },
  "language_info": {
   "codemirror_mode": {
    "name": "ipython",
    "version": 3
   },
   "file_extension": ".py",
   "mimetype": "text/x-python",
   "name": "python",
   "nbconvert_exporter": "python",
   "pygments_lexer": "ipython3",
   "version": "3.10.1"
  },
  "orig_nbformat": 4
 },
 "nbformat": 4,
 "nbformat_minor": 2
}
