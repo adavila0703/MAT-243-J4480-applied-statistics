{
 "cells": [
  {
   "cell_type": "code",
   "execution_count": 7,
   "metadata": {},
   "outputs": [
    {
     "name": "stdout",
     "output_type": "stream",
     "text": [
      "4.0\n",
      "10.94\n"
     ]
    }
   ],
   "source": [
    "def ttest(observed: int, expected: int) -> int:\n",
    "    dif = observed - expected\n",
    "    return round((dif**2) / expected, 4)\n",
    "\n",
    "num1 = ttest(35, 25)\n",
    "print(num1)\n",
    "num2 = ttest(53, 50)\n",
    "num3 = ttest(12, 25)\n",
    "\n",
    "print(round(num1 + num2 + num3, 4))    "
   ]
  },
  {
   "cell_type": "code",
   "execution_count": null,
   "metadata": {},
   "outputs": [],
   "source": []
  }
 ],
 "metadata": {
  "interpreter": {
   "hash": "118673619f5b0bc106dd64d7c79e87dd6f1674b77de6024f4dedd4f9d181e84a"
  },
  "kernelspec": {
   "display_name": "Python 3.10.1 ('venv': venv)",
   "language": "python",
   "name": "python3"
  },
  "language_info": {
   "codemirror_mode": {
    "name": "ipython",
    "version": 3
   },
   "file_extension": ".py",
   "mimetype": "text/x-python",
   "name": "python",
   "nbconvert_exporter": "python",
   "pygments_lexer": "ipython3",
   "version": "3.10.1"
  },
  "orig_nbformat": 4
 },
 "nbformat": 4,
 "nbformat_minor": 2
}
