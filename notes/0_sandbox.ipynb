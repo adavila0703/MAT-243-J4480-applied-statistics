{
 "cells": [
  {
   "cell_type": "code",
   "execution_count": 13,
   "metadata": {},
   "outputs": [
    {
     "name": "stdout",
     "output_type": "stream",
     "text": [
      "0    3.0\n",
      "dtype: float64\n"
     ]
    }
   ],
   "source": [
    "import seaborn as sns\n",
    "import matplotlib.pyplot as plt\n",
    "import pandas as pd\n",
    "import numpy as np\n",
    "\n",
    "\n",
    "df = pd.DataFrame([1,2,4,5])\n",
    "print(df.mean())"
   ]
  },
  {
   "cell_type": "code",
   "execution_count": 14,
   "metadata": {},
   "outputs": [],
   "source": [
    "def sum_of_absolute_differences(data: list) -> int:\n",
    "    mean = pd.DataFrame(data).mean()\n",
    "    numbers_to_sum = []\n",
    "\n",
    "    for d in data:\n",
    "        numbers_to_sum.append(abs(d - mean))\n",
    "    \n",
    "    return sum(numbers_to_sum)  "
   ]
  },
  {
   "cell_type": "code",
   "execution_count": 15,
   "metadata": {},
   "outputs": [
    {
     "name": "stdout",
     "output_type": "stream",
     "text": [
      "0    6.0\n",
      "dtype: float64\n"
     ]
    }
   ],
   "source": [
    "print(sum_of_absolute_differences([1,2,4,5]))"
   ]
  },
  {
   "cell_type": "code",
   "execution_count": 16,
   "metadata": {},
   "outputs": [],
   "source": [
    "def mean_absolute_deviation(data: list) -> int:\n",
    "    \"\"\"Same as pd.DataFrame().mad()\"\"\"\n",
    "    mean = pd.DataFrame(data).mean()\n",
    "    length = len(data)\n",
    "    nums = []\n",
    "\n",
    "    for d in data:\n",
    "        nums.append(abs(d - mean))\n",
    "\n",
    "    return sum(nums) / length"
   ]
  },
  {
   "cell_type": "code",
   "execution_count": 18,
   "metadata": {},
   "outputs": [
    {
     "name": "stdout",
     "output_type": "stream",
     "text": [
      "0    1.5\n",
      "dtype: float64\n"
     ]
    }
   ],
   "source": [
    "print(mean_absolute_deviation([1,2,4,5]))"
   ]
  },
  {
   "cell_type": "code",
   "execution_count": null,
   "metadata": {},
   "outputs": [],
   "source": []
  }
 ],
 "metadata": {
  "interpreter": {
   "hash": "118673619f5b0bc106dd64d7c79e87dd6f1674b77de6024f4dedd4f9d181e84a"
  },
  "kernelspec": {
   "display_name": "Python 3.10.1 ('venv': venv)",
   "language": "python",
   "name": "python3"
  },
  "language_info": {
   "codemirror_mode": {
    "name": "ipython",
    "version": 3
   },
   "file_extension": ".py",
   "mimetype": "text/x-python",
   "name": "python",
   "nbconvert_exporter": "python",
   "pygments_lexer": "ipython3",
   "version": "3.10.1"
  },
  "orig_nbformat": 4
 },
 "nbformat": 4,
 "nbformat_minor": 2
}
