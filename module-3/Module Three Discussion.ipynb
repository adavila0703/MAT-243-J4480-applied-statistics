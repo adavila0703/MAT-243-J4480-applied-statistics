{
 "cells": [
  {
   "cell_type": "markdown",
   "metadata": {},
   "source": [
    "# Module Three Discussion: Confidence Intervals and Hypothesis Testing\n",
    "\n",
    "This notebook contains the step-by-step directions for your Module Three discussion. It is very important to run through the steps in order. Some steps depend on the outputs of earlier steps. Once you have completed the steps in this notebook, be sure to answer the questions about this activity in the discussion for this module.\n",
    "\n",
    "Reminder: If you have not already reviewed the discussion prompt, please do so before beginning this activity. That will give you an idea of the questions you will need to answer with the outputs of this script.\n"
   ]
  },
  {
   "cell_type": "markdown",
   "metadata": {},
   "source": [
    "\n",
    "## Initial post (due Thursday)\n",
    "_____________________________________________________________________________________________________________________________________________________"
   ]
  },
  {
   "cell_type": "markdown",
   "metadata": {},
   "source": [
    "### Step 1: Generating sample data\n",
    "This block of Python code will generate a unique sample of size 50 that you will use in this discussion. Note that your sample will be unique and therefore your answers will be unique as well. The numpy module in Python allows you to create a data set using a Normal distribution. Note that the mean and standard deviation were chosen for you. The data set will be saved in a Python dataframe that will be used in later calculations. \n",
    "\n",
    "Click the block of code below and hit the **Run** button above. "
   ]
  },
  {
   "cell_type": "code",
   "execution_count": 7,
   "metadata": {},
   "outputs": [
    {
     "name": "stdout",
     "output_type": "stream",
     "text": [
      "Diameters data frame\n",
      "\n",
      "    diameters\n",
      "0        2.96\n",
      "1        2.78\n",
      "2        2.58\n",
      "3        2.18\n",
      "4        3.27\n",
      "5        1.35\n",
      "6        2.25\n",
      "7        2.64\n",
      "8        3.31\n",
      "9        3.04\n",
      "10       2.37\n",
      "11       1.95\n",
      "12       2.15\n",
      "13       2.23\n",
      "14       1.90\n",
      "15       3.19\n",
      "16       2.67\n",
      "17       2.69\n",
      "18       2.31\n",
      "19       2.25\n",
      "20       1.92\n",
      "21       2.60\n",
      "22       1.94\n",
      "23       2.89\n",
      "24       2.32\n",
      "25       3.00\n",
      "26       2.15\n",
      "27       3.29\n",
      "28       2.69\n",
      "29       1.83\n",
      "30       2.61\n",
      "31       1.44\n",
      "32       2.93\n",
      "33       2.22\n",
      "34       3.25\n",
      "35       2.67\n",
      "36       2.20\n",
      "37       2.65\n",
      "38       2.08\n",
      "39       1.81\n",
      "40       1.54\n",
      "41       2.50\n",
      "42       3.35\n",
      "43       1.62\n",
      "44       2.53\n",
      "45       2.70\n",
      "46       2.25\n",
      "47       2.94\n",
      "48       3.04\n",
      "49       2.51\n"
     ]
    }
   ],
   "source": [
    "import pandas as pd\n",
    "import numpy as np\n",
    "import math\n",
    "import scipy.stats as st\n",
    "\n",
    "# create 50 randomly chosen values from a Normal distribution. (arbitrarily using mean=2.48 and standard deviation=0.50). \n",
    "diameters = np.random.normal(2.4800,0.500,50)\n",
    "\n",
    "# convert the array into a dataframe with the column name \"diameters\" using pandas library.\n",
    "diameters_df = pd.DataFrame(diameters, columns=['diameters'])\n",
    "diameters_df = diameters_df.round(2)\n",
    "\n",
    "# print the dataframe (note that the index of dataframe starts at 0).\n",
    "print(\"Diameters data frame\\n\")\n",
    "print(diameters_df)"
   ]
  },
  {
   "cell_type": "markdown",
   "metadata": {},
   "source": [
    "### Step 2: Constructing confidence intervals\n",
    "You will assume that the population standard deviation is known and that the sample size is sufficiently large. Then you will use the Normal distribution to construct these confidence intervals. You will use the submodule scipy.stats to construct confidence intervals using your sample data. \n",
    "\n",
    "Click the block of code below and hit the **Run** button above. "
   ]
  },
  {
   "cell_type": "code",
   "execution_count": 11,
   "metadata": {},
   "outputs": [
    {
     "name": "stdout",
     "output_type": "stream",
     "text": [
      "90% confidence interval (unrounded) = (2.354491284632333, 2.587108715367668)\n",
      "90% confidence interval (rounded) = ( 2.35 , 2.59 )\n",
      "\n",
      "95% confidence interval (unrounded) = (2.3322096175650326, 2.6093903824349685)\n",
      "95% confidence interval (rounded) = ( 2.33 , 2.61 )\n",
      "\n",
      "99% confidence interval (unrounded) = (2.2886613632281554, 2.6529386367718457)\n",
      "99% confidence interval (rounded) = ( 2.29 , 2.65 )\n"
     ]
    }
   ],
   "source": [
    "# Python methods that calculate confidence intervals require the sample mean and the standard error as inputs.\n",
    "\n",
    "# calculate the sample mean\n",
    "mean = diameters_df['diameters'].mean()\n",
    "\n",
    "# input the population standard deviation, which was given in Step 1.\n",
    "std_deviation = 0.5000\n",
    "\n",
    "# calculate standard error = standard deviation / sqrt(n)   where n is the sample size.\n",
    "stderr = std_deviation/math.sqrt(len(diameters_df['diameters']))\n",
    "\n",
    "# construct a 90% confidence interval.\n",
    "conf_int_90 = st.norm.interval(0.90, mean, stderr)\n",
    "print(\"90% confidence interval (unrounded) =\", conf_int_90)\n",
    "print(\"90% confidence interval (rounded) = (\", round(conf_int_90[0], 2), \",\", round(conf_int_90[1], 2), \")\")\n",
    "print(\"\")\n",
    "\n",
    "\n",
    "# construct a 90% confidence interval.\n",
    "conf_int_90 = st.norm.interval(0.95, mean, stderr)\n",
    "print(\"95% confidence interval (unrounded) =\", conf_int_90)\n",
    "print(\"95% confidence interval (rounded) = (\", round(conf_int_90[0], 2), \",\", round(conf_int_90[1], 2), \")\")\n",
    "print(\"\")\n",
    "\n",
    "# construct a 99% confidence interval.\n",
    "conf_int_99 = st.norm.interval(0.99, mean, stderr)\n",
    "print(\"99% confidence interval (unrounded) =\", conf_int_99)\n",
    "print(\"99% confidence interval (rounded) = (\", round(conf_int_99[0], 2), \",\", round(conf_int_99[1], 2), \")\")"
   ]
  },
  {
   "cell_type": "markdown",
   "metadata": {},
   "source": [
    "### Step 3: Performing hypothesis testing for the population mean\n",
    "Since you were given the population standard deviation in Step 1 and the sample size is sufficiently large, you can use the z-test for population means. The z-test method in statsmodels.stats.weightstats submodule runs the z-test. The input to this method is the sample dataframe and the value under the null hypothesis. The output is the test-statistic and the two-tailed P-value.\n",
    "\n",
    "Click the block of code below and hit the **Run** button above. "
   ]
  },
  {
   "cell_type": "code",
   "execution_count": 9,
   "metadata": {},
   "outputs": [
    {
     "name": "stdout",
     "output_type": "stream",
     "text": [
      "z-test hypothesis test for population mean\n",
      "test-statistic = 2.35\n",
      "two tailed p-value = 0.0186\n"
     ]
    }
   ],
   "source": [
    "from statsmodels.stats.weightstats import ztest\n",
    "\n",
    "# run z-test hypothesis test for population mean. The value under the null hypothesis is 2.30.\n",
    "test_statistic, p_value = ztest(x1 = diameters_df['diameters'],  value = 2.30)\n",
    "\n",
    "print(\"z-test hypothesis test for population mean\")\n",
    "print(\"test-statistic =\", round(test_statistic,2))\n",
    "print(\"two tailed p-value =\",round(p_value,4))"
   ]
  }
 ],
 "metadata": {
  "kernelspec": {
   "display_name": "Python 3",
   "language": "python",
   "name": "python3"
  },
  "language_info": {
   "codemirror_mode": {
    "name": "ipython",
    "version": 3
   },
   "file_extension": ".py",
   "mimetype": "text/x-python",
   "name": "python",
   "nbconvert_exporter": "python",
   "pygments_lexer": "ipython3",
   "version": "3.10.1"
  }
 },
 "nbformat": 4,
 "nbformat_minor": 2
}
