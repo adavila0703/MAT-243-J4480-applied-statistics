{
 "cells": [
  {
   "cell_type": "code",
   "execution_count": 2,
   "metadata": {},
   "outputs": [],
   "source": [
    "import seaborn as sns\n",
    "import matplotlib.pyplot as plt\n",
    "import pandas as pd\n",
    "import numpy as np\n",
    "import quandl"
   ]
  },
  {
   "cell_type": "code",
   "execution_count": 3,
   "metadata": {},
   "outputs": [],
   "source": [
    "def range_of_scores(x: pd.DataFrame) -> int:\n",
    "  return x.max() - x.min()"
   ]
  },
  {
   "cell_type": "code",
   "execution_count": 4,
   "metadata": {},
   "outputs": [
    {
     "name": "stdout",
     "output_type": "stream",
     "text": [
      "0    14\n",
      "dtype: int64\n"
     ]
    }
   ],
   "source": [
    "df = pd.DataFrame([-3, 4, 8, 1, -6, 4])\n",
    "print(range_of_scores(df))"
   ]
  },
  {
   "cell_type": "code",
   "execution_count": 14,
   "metadata": {},
   "outputs": [
    {
     "name": "stdout",
     "output_type": "stream",
     "text": [
      "\n",
      "Data : [-12, -6, -2, 0, 2, 5, 8, 10, 11]\n",
      "\n",
      "Min : 0   -12\n",
      "dtype: int64\n",
      "\n",
      "Median : 0    2.0\n",
      "dtype: float64\n",
      "\n",
      "Max : 0    11\n",
      "dtype: int64\n",
      "\n",
      "Describe\n",
      "                0\n",
      "count   9.000000\n",
      "mean    1.777778\n",
      "std     7.661230\n",
      "min   -12.000000\n",
      "25%    -2.000000\n",
      "50%     2.000000\n",
      "75%     8.000000\n",
      "max    11.000000\n"
     ]
    }
   ],
   "source": [
    "data = [0, -6, 10, 5, 8, 2, -12, 11, -2]\n",
    "\n",
    "df = pd.DataFrame(data)\n",
    "data.sort()\n",
    "print('\\nData :', data)\n",
    "print('\\nMin :', df.min())\n",
    "print('\\nMedian :', df.median())\n",
    "print('\\nMax :', df.max())\n",
    "print('\\nDescribe\\n', df.describe())"
   ]
  }
 ],
 "metadata": {
  "interpreter": {
   "hash": "118673619f5b0bc106dd64d7c79e87dd6f1674b77de6024f4dedd4f9d181e84a"
  },
  "kernelspec": {
   "display_name": "Python 3.10.1 ('venv': venv)",
   "language": "python",
   "name": "python3"
  },
  "language_info": {
   "codemirror_mode": {
    "name": "ipython",
    "version": 3
   },
   "file_extension": ".py",
   "mimetype": "text/x-python",
   "name": "python",
   "nbconvert_exporter": "python",
   "pygments_lexer": "ipython3",
   "version": "3.10.1"
  },
  "orig_nbformat": 4
 },
 "nbformat": 4,
 "nbformat_minor": 2
}
