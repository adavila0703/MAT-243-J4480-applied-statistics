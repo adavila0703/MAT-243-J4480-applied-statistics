{
 "cells": [
  {
   "cell_type": "code",
   "execution_count": 2,
   "metadata": {},
   "outputs": [],
   "source": [
    "import seaborn as sns\n",
    "import matplotlib.pyplot as plt\n",
    "import pandas as pd\n",
    "import numpy as np\n",
    "import quandl"
   ]
  },
  {
   "cell_type": "code",
   "execution_count": 3,
   "metadata": {},
   "outputs": [],
   "source": [
    "def range_of_scores(x: pd.DataFrame) -> int:\n",
    "  return x.max() - x.min()"
   ]
  },
  {
   "cell_type": "code",
   "execution_count": 4,
   "metadata": {},
   "outputs": [
    {
     "name": "stdout",
     "output_type": "stream",
     "text": [
      "0    14\n",
      "dtype: int64\n"
     ]
    }
   ],
   "source": [
    "df = pd.DataFrame([-3, 4, 8, 1, -6, 4])\n",
    "print(range_of_scores(df))"
   ]
  },
  {
   "cell_type": "code",
   "execution_count": 14,
   "metadata": {},
   "outputs": [
    {
     "name": "stdout",
     "output_type": "stream",
     "text": [
      "\n",
      "Data : [-12, -6, -2, 0, 2, 5, 8, 10, 11]\n",
      "\n",
      "Min : 0   -12\n",
      "dtype: int64\n",
      "\n",
      "Median : 0    2.0\n",
      "dtype: float64\n",
      "\n",
      "Max : 0    11\n",
      "dtype: int64\n",
      "\n",
      "Describe\n",
      "                0\n",
      "count   9.000000\n",
      "mean    1.777778\n",
      "std     7.661230\n",
      "min   -12.000000\n",
      "25%    -2.000000\n",
      "50%     2.000000\n",
      "75%     8.000000\n",
      "max    11.000000\n"
     ]
    }
   ],
   "source": [
    "data = [0, -6, 10, 5, 8, 2, -12, 11, -2]\n",
    "\n",
    "df = pd.DataFrame(data)\n",
    "data.sort()\n",
    "print('\\nData :', data)\n",
    "print('\\nMin :', df.min())\n",
    "print('\\nMedian :', df.median())\n",
    "print('\\nMax :', df.max())\n",
    "print('\\nDescribe\\n', df.describe())"
   ]
  },
  {
   "cell_type": "code",
   "execution_count": 17,
   "metadata": {},
   "outputs": [
    {
     "ename": "ValueError",
     "evalue": "The truth value of a DataFrame is ambiguous. Use a.empty, a.bool(), a.item(), a.any() or a.all().",
     "output_type": "error",
     "traceback": [
      "\u001b[1;31m---------------------------------------------------------------------------\u001b[0m",
      "\u001b[1;31mValueError\u001b[0m                                Traceback (most recent call last)",
      "File \u001b[1;32mc:\\Users\\Angel\\Documents\\GitHub\\MAT-243-J4480-applied-statistics\\venv\\lib\\site-packages\\IPython\\core\\formatters.py:339\u001b[0m, in \u001b[0;36mBaseFormatter.__call__\u001b[1;34m(self, obj)\u001b[0m\n\u001b[0;32m    <a href='file:///c%3A/Users/Angel/Documents/GitHub/MAT-243-J4480-applied-statistics/venv/lib/site-packages/IPython/core/formatters.py?line=336'>337</a>\u001b[0m     \u001b[39mpass\u001b[39;00m\n\u001b[0;32m    <a href='file:///c%3A/Users/Angel/Documents/GitHub/MAT-243-J4480-applied-statistics/venv/lib/site-packages/IPython/core/formatters.py?line=337'>338</a>\u001b[0m \u001b[39melse\u001b[39;00m:\n\u001b[1;32m--> <a href='file:///c%3A/Users/Angel/Documents/GitHub/MAT-243-J4480-applied-statistics/venv/lib/site-packages/IPython/core/formatters.py?line=338'>339</a>\u001b[0m     \u001b[39mreturn\u001b[39;00m printer(obj)\n\u001b[0;32m    <a href='file:///c%3A/Users/Angel/Documents/GitHub/MAT-243-J4480-applied-statistics/venv/lib/site-packages/IPython/core/formatters.py?line=339'>340</a>\u001b[0m \u001b[39m# Finally look for special method names\u001b[39;00m\n\u001b[0;32m    <a href='file:///c%3A/Users/Angel/Documents/GitHub/MAT-243-J4480-applied-statistics/venv/lib/site-packages/IPython/core/formatters.py?line=340'>341</a>\u001b[0m method \u001b[39m=\u001b[39m get_real_method(obj, \u001b[39mself\u001b[39m\u001b[39m.\u001b[39mprint_method)\n",
      "File \u001b[1;32mc:\\Users\\Angel\\Documents\\GitHub\\MAT-243-J4480-applied-statistics\\venv\\lib\\site-packages\\IPython\\core\\pylabtools.py:151\u001b[0m, in \u001b[0;36mprint_figure\u001b[1;34m(fig, fmt, bbox_inches, base64, **kwargs)\u001b[0m\n\u001b[0;32m    <a href='file:///c%3A/Users/Angel/Documents/GitHub/MAT-243-J4480-applied-statistics/venv/lib/site-packages/IPython/core/pylabtools.py?line=147'>148</a>\u001b[0m     \u001b[39mfrom\u001b[39;00m \u001b[39mmatplotlib\u001b[39;00m\u001b[39m.\u001b[39;00m\u001b[39mbackend_bases\u001b[39;00m \u001b[39mimport\u001b[39;00m FigureCanvasBase\n\u001b[0;32m    <a href='file:///c%3A/Users/Angel/Documents/GitHub/MAT-243-J4480-applied-statistics/venv/lib/site-packages/IPython/core/pylabtools.py?line=148'>149</a>\u001b[0m     FigureCanvasBase(fig)\n\u001b[1;32m--> <a href='file:///c%3A/Users/Angel/Documents/GitHub/MAT-243-J4480-applied-statistics/venv/lib/site-packages/IPython/core/pylabtools.py?line=150'>151</a>\u001b[0m fig\u001b[39m.\u001b[39mcanvas\u001b[39m.\u001b[39mprint_figure(bytes_io, \u001b[39m*\u001b[39m\u001b[39m*\u001b[39mkw)\n\u001b[0;32m    <a href='file:///c%3A/Users/Angel/Documents/GitHub/MAT-243-J4480-applied-statistics/venv/lib/site-packages/IPython/core/pylabtools.py?line=151'>152</a>\u001b[0m data \u001b[39m=\u001b[39m bytes_io\u001b[39m.\u001b[39mgetvalue()\n\u001b[0;32m    <a href='file:///c%3A/Users/Angel/Documents/GitHub/MAT-243-J4480-applied-statistics/venv/lib/site-packages/IPython/core/pylabtools.py?line=152'>153</a>\u001b[0m \u001b[39mif\u001b[39;00m fmt \u001b[39m==\u001b[39m \u001b[39m'\u001b[39m\u001b[39msvg\u001b[39m\u001b[39m'\u001b[39m:\n",
      "File \u001b[1;32mc:\\Users\\Angel\\Documents\\GitHub\\MAT-243-J4480-applied-statistics\\venv\\lib\\site-packages\\matplotlib\\backend_bases.py:2295\u001b[0m, in \u001b[0;36mFigureCanvasBase.print_figure\u001b[1;34m(self, filename, dpi, facecolor, edgecolor, orientation, format, bbox_inches, pad_inches, bbox_extra_artists, backend, **kwargs)\u001b[0m\n\u001b[0;32m   <a href='file:///c%3A/Users/Angel/Documents/GitHub/MAT-243-J4480-applied-statistics/venv/lib/site-packages/matplotlib/backend_bases.py?line=2288'>2289</a>\u001b[0m     renderer \u001b[39m=\u001b[39m _get_renderer(\n\u001b[0;32m   <a href='file:///c%3A/Users/Angel/Documents/GitHub/MAT-243-J4480-applied-statistics/venv/lib/site-packages/matplotlib/backend_bases.py?line=2289'>2290</a>\u001b[0m         \u001b[39mself\u001b[39m\u001b[39m.\u001b[39mfigure,\n\u001b[0;32m   <a href='file:///c%3A/Users/Angel/Documents/GitHub/MAT-243-J4480-applied-statistics/venv/lib/site-packages/matplotlib/backend_bases.py?line=2290'>2291</a>\u001b[0m         functools\u001b[39m.\u001b[39mpartial(\n\u001b[0;32m   <a href='file:///c%3A/Users/Angel/Documents/GitHub/MAT-243-J4480-applied-statistics/venv/lib/site-packages/matplotlib/backend_bases.py?line=2291'>2292</a>\u001b[0m             print_method, orientation\u001b[39m=\u001b[39morientation)\n\u001b[0;32m   <a href='file:///c%3A/Users/Angel/Documents/GitHub/MAT-243-J4480-applied-statistics/venv/lib/site-packages/matplotlib/backend_bases.py?line=2292'>2293</a>\u001b[0m     )\n\u001b[0;32m   <a href='file:///c%3A/Users/Angel/Documents/GitHub/MAT-243-J4480-applied-statistics/venv/lib/site-packages/matplotlib/backend_bases.py?line=2293'>2294</a>\u001b[0m     \u001b[39mwith\u001b[39;00m \u001b[39mgetattr\u001b[39m(renderer, \u001b[39m\"\u001b[39m\u001b[39m_draw_disabled\u001b[39m\u001b[39m\"\u001b[39m, nullcontext)():\n\u001b[1;32m-> <a href='file:///c%3A/Users/Angel/Documents/GitHub/MAT-243-J4480-applied-statistics/venv/lib/site-packages/matplotlib/backend_bases.py?line=2294'>2295</a>\u001b[0m         \u001b[39mself\u001b[39;49m\u001b[39m.\u001b[39;49mfigure\u001b[39m.\u001b[39;49mdraw(renderer)\n\u001b[0;32m   <a href='file:///c%3A/Users/Angel/Documents/GitHub/MAT-243-J4480-applied-statistics/venv/lib/site-packages/matplotlib/backend_bases.py?line=2296'>2297</a>\u001b[0m \u001b[39mif\u001b[39;00m bbox_inches:\n\u001b[0;32m   <a href='file:///c%3A/Users/Angel/Documents/GitHub/MAT-243-J4480-applied-statistics/venv/lib/site-packages/matplotlib/backend_bases.py?line=2297'>2298</a>\u001b[0m     \u001b[39mif\u001b[39;00m bbox_inches \u001b[39m==\u001b[39m \u001b[39m\"\u001b[39m\u001b[39mtight\u001b[39m\u001b[39m\"\u001b[39m:\n",
      "File \u001b[1;32mc:\\Users\\Angel\\Documents\\GitHub\\MAT-243-J4480-applied-statistics\\venv\\lib\\site-packages\\matplotlib\\artist.py:73\u001b[0m, in \u001b[0;36m_finalize_rasterization.<locals>.draw_wrapper\u001b[1;34m(artist, renderer, *args, **kwargs)\u001b[0m\n\u001b[0;32m     <a href='file:///c%3A/Users/Angel/Documents/GitHub/MAT-243-J4480-applied-statistics/venv/lib/site-packages/matplotlib/artist.py?line=70'>71</a>\u001b[0m \u001b[39m@wraps\u001b[39m(draw)\n\u001b[0;32m     <a href='file:///c%3A/Users/Angel/Documents/GitHub/MAT-243-J4480-applied-statistics/venv/lib/site-packages/matplotlib/artist.py?line=71'>72</a>\u001b[0m \u001b[39mdef\u001b[39;00m \u001b[39mdraw_wrapper\u001b[39m(artist, renderer, \u001b[39m*\u001b[39margs, \u001b[39m*\u001b[39m\u001b[39m*\u001b[39mkwargs):\n\u001b[1;32m---> <a href='file:///c%3A/Users/Angel/Documents/GitHub/MAT-243-J4480-applied-statistics/venv/lib/site-packages/matplotlib/artist.py?line=72'>73</a>\u001b[0m     result \u001b[39m=\u001b[39m draw(artist, renderer, \u001b[39m*\u001b[39margs, \u001b[39m*\u001b[39m\u001b[39m*\u001b[39mkwargs)\n\u001b[0;32m     <a href='file:///c%3A/Users/Angel/Documents/GitHub/MAT-243-J4480-applied-statistics/venv/lib/site-packages/matplotlib/artist.py?line=73'>74</a>\u001b[0m     \u001b[39mif\u001b[39;00m renderer\u001b[39m.\u001b[39m_rasterizing:\n\u001b[0;32m     <a href='file:///c%3A/Users/Angel/Documents/GitHub/MAT-243-J4480-applied-statistics/venv/lib/site-packages/matplotlib/artist.py?line=74'>75</a>\u001b[0m         renderer\u001b[39m.\u001b[39mstop_rasterizing()\n",
      "File \u001b[1;32mc:\\Users\\Angel\\Documents\\GitHub\\MAT-243-J4480-applied-statistics\\venv\\lib\\site-packages\\matplotlib\\artist.py:50\u001b[0m, in \u001b[0;36mallow_rasterization.<locals>.draw_wrapper\u001b[1;34m(artist, renderer)\u001b[0m\n\u001b[0;32m     <a href='file:///c%3A/Users/Angel/Documents/GitHub/MAT-243-J4480-applied-statistics/venv/lib/site-packages/matplotlib/artist.py?line=46'>47</a>\u001b[0m     \u001b[39mif\u001b[39;00m artist\u001b[39m.\u001b[39mget_agg_filter() \u001b[39mis\u001b[39;00m \u001b[39mnot\u001b[39;00m \u001b[39mNone\u001b[39;00m:\n\u001b[0;32m     <a href='file:///c%3A/Users/Angel/Documents/GitHub/MAT-243-J4480-applied-statistics/venv/lib/site-packages/matplotlib/artist.py?line=47'>48</a>\u001b[0m         renderer\u001b[39m.\u001b[39mstart_filter()\n\u001b[1;32m---> <a href='file:///c%3A/Users/Angel/Documents/GitHub/MAT-243-J4480-applied-statistics/venv/lib/site-packages/matplotlib/artist.py?line=49'>50</a>\u001b[0m     \u001b[39mreturn\u001b[39;00m draw(artist, renderer)\n\u001b[0;32m     <a href='file:///c%3A/Users/Angel/Documents/GitHub/MAT-243-J4480-applied-statistics/venv/lib/site-packages/matplotlib/artist.py?line=50'>51</a>\u001b[0m \u001b[39mfinally\u001b[39;00m:\n\u001b[0;32m     <a href='file:///c%3A/Users/Angel/Documents/GitHub/MAT-243-J4480-applied-statistics/venv/lib/site-packages/matplotlib/artist.py?line=51'>52</a>\u001b[0m     \u001b[39mif\u001b[39;00m artist\u001b[39m.\u001b[39mget_agg_filter() \u001b[39mis\u001b[39;00m \u001b[39mnot\u001b[39;00m \u001b[39mNone\u001b[39;00m:\n",
      "File \u001b[1;32mc:\\Users\\Angel\\Documents\\GitHub\\MAT-243-J4480-applied-statistics\\venv\\lib\\site-packages\\matplotlib\\figure.py:2810\u001b[0m, in \u001b[0;36mFigure.draw\u001b[1;34m(self, renderer)\u001b[0m\n\u001b[0;32m   <a href='file:///c%3A/Users/Angel/Documents/GitHub/MAT-243-J4480-applied-statistics/venv/lib/site-packages/matplotlib/figure.py?line=2806'>2807</a>\u001b[0m         \u001b[39m# ValueError can occur when resizing a window.\u001b[39;00m\n\u001b[0;32m   <a href='file:///c%3A/Users/Angel/Documents/GitHub/MAT-243-J4480-applied-statistics/venv/lib/site-packages/matplotlib/figure.py?line=2808'>2809</a>\u001b[0m \u001b[39mself\u001b[39m\u001b[39m.\u001b[39mpatch\u001b[39m.\u001b[39mdraw(renderer)\n\u001b[1;32m-> <a href='file:///c%3A/Users/Angel/Documents/GitHub/MAT-243-J4480-applied-statistics/venv/lib/site-packages/matplotlib/figure.py?line=2809'>2810</a>\u001b[0m mimage\u001b[39m.\u001b[39;49m_draw_list_compositing_images(\n\u001b[0;32m   <a href='file:///c%3A/Users/Angel/Documents/GitHub/MAT-243-J4480-applied-statistics/venv/lib/site-packages/matplotlib/figure.py?line=2810'>2811</a>\u001b[0m     renderer, \u001b[39mself\u001b[39;49m, artists, \u001b[39mself\u001b[39;49m\u001b[39m.\u001b[39;49msuppressComposite)\n\u001b[0;32m   <a href='file:///c%3A/Users/Angel/Documents/GitHub/MAT-243-J4480-applied-statistics/venv/lib/site-packages/matplotlib/figure.py?line=2812'>2813</a>\u001b[0m \u001b[39mfor\u001b[39;00m sfig \u001b[39min\u001b[39;00m \u001b[39mself\u001b[39m\u001b[39m.\u001b[39msubfigs:\n\u001b[0;32m   <a href='file:///c%3A/Users/Angel/Documents/GitHub/MAT-243-J4480-applied-statistics/venv/lib/site-packages/matplotlib/figure.py?line=2813'>2814</a>\u001b[0m     sfig\u001b[39m.\u001b[39mdraw(renderer)\n",
      "File \u001b[1;32mc:\\Users\\Angel\\Documents\\GitHub\\MAT-243-J4480-applied-statistics\\venv\\lib\\site-packages\\matplotlib\\image.py:132\u001b[0m, in \u001b[0;36m_draw_list_compositing_images\u001b[1;34m(renderer, parent, artists, suppress_composite)\u001b[0m\n\u001b[0;32m    <a href='file:///c%3A/Users/Angel/Documents/GitHub/MAT-243-J4480-applied-statistics/venv/lib/site-packages/matplotlib/image.py?line=129'>130</a>\u001b[0m \u001b[39mif\u001b[39;00m not_composite \u001b[39mor\u001b[39;00m \u001b[39mnot\u001b[39;00m has_images:\n\u001b[0;32m    <a href='file:///c%3A/Users/Angel/Documents/GitHub/MAT-243-J4480-applied-statistics/venv/lib/site-packages/matplotlib/image.py?line=130'>131</a>\u001b[0m     \u001b[39mfor\u001b[39;00m a \u001b[39min\u001b[39;00m artists:\n\u001b[1;32m--> <a href='file:///c%3A/Users/Angel/Documents/GitHub/MAT-243-J4480-applied-statistics/venv/lib/site-packages/matplotlib/image.py?line=131'>132</a>\u001b[0m         a\u001b[39m.\u001b[39;49mdraw(renderer)\n\u001b[0;32m    <a href='file:///c%3A/Users/Angel/Documents/GitHub/MAT-243-J4480-applied-statistics/venv/lib/site-packages/matplotlib/image.py?line=132'>133</a>\u001b[0m \u001b[39melse\u001b[39;00m:\n\u001b[0;32m    <a href='file:///c%3A/Users/Angel/Documents/GitHub/MAT-243-J4480-applied-statistics/venv/lib/site-packages/matplotlib/image.py?line=133'>134</a>\u001b[0m     \u001b[39m# Composite any adjacent images together\u001b[39;00m\n\u001b[0;32m    <a href='file:///c%3A/Users/Angel/Documents/GitHub/MAT-243-J4480-applied-statistics/venv/lib/site-packages/matplotlib/image.py?line=134'>135</a>\u001b[0m     image_group \u001b[39m=\u001b[39m []\n",
      "File \u001b[1;32mc:\\Users\\Angel\\Documents\\GitHub\\MAT-243-J4480-applied-statistics\\venv\\lib\\site-packages\\matplotlib\\artist.py:50\u001b[0m, in \u001b[0;36mallow_rasterization.<locals>.draw_wrapper\u001b[1;34m(artist, renderer)\u001b[0m\n\u001b[0;32m     <a href='file:///c%3A/Users/Angel/Documents/GitHub/MAT-243-J4480-applied-statistics/venv/lib/site-packages/matplotlib/artist.py?line=46'>47</a>\u001b[0m     \u001b[39mif\u001b[39;00m artist\u001b[39m.\u001b[39mget_agg_filter() \u001b[39mis\u001b[39;00m \u001b[39mnot\u001b[39;00m \u001b[39mNone\u001b[39;00m:\n\u001b[0;32m     <a href='file:///c%3A/Users/Angel/Documents/GitHub/MAT-243-J4480-applied-statistics/venv/lib/site-packages/matplotlib/artist.py?line=47'>48</a>\u001b[0m         renderer\u001b[39m.\u001b[39mstart_filter()\n\u001b[1;32m---> <a href='file:///c%3A/Users/Angel/Documents/GitHub/MAT-243-J4480-applied-statistics/venv/lib/site-packages/matplotlib/artist.py?line=49'>50</a>\u001b[0m     \u001b[39mreturn\u001b[39;00m draw(artist, renderer)\n\u001b[0;32m     <a href='file:///c%3A/Users/Angel/Documents/GitHub/MAT-243-J4480-applied-statistics/venv/lib/site-packages/matplotlib/artist.py?line=50'>51</a>\u001b[0m \u001b[39mfinally\u001b[39;00m:\n\u001b[0;32m     <a href='file:///c%3A/Users/Angel/Documents/GitHub/MAT-243-J4480-applied-statistics/venv/lib/site-packages/matplotlib/artist.py?line=51'>52</a>\u001b[0m     \u001b[39mif\u001b[39;00m artist\u001b[39m.\u001b[39mget_agg_filter() \u001b[39mis\u001b[39;00m \u001b[39mnot\u001b[39;00m \u001b[39mNone\u001b[39;00m:\n",
      "File \u001b[1;32mc:\\Users\\Angel\\Documents\\GitHub\\MAT-243-J4480-applied-statistics\\venv\\lib\\site-packages\\matplotlib\\axes\\_base.py:3042\u001b[0m, in \u001b[0;36m_AxesBase.draw\u001b[1;34m(self, renderer)\u001b[0m\n\u001b[0;32m   <a href='file:///c%3A/Users/Angel/Documents/GitHub/MAT-243-J4480-applied-statistics/venv/lib/site-packages/matplotlib/axes/_base.py?line=3035'>3036</a>\u001b[0m artists\u001b[39m.\u001b[39mremove(\u001b[39mself\u001b[39m\u001b[39m.\u001b[39mpatch)\n\u001b[0;32m   <a href='file:///c%3A/Users/Angel/Documents/GitHub/MAT-243-J4480-applied-statistics/venv/lib/site-packages/matplotlib/axes/_base.py?line=3037'>3038</a>\u001b[0m \u001b[39m# the frame draws the edges around the Axes patch -- we\u001b[39;00m\n\u001b[0;32m   <a href='file:///c%3A/Users/Angel/Documents/GitHub/MAT-243-J4480-applied-statistics/venv/lib/site-packages/matplotlib/axes/_base.py?line=3038'>3039</a>\u001b[0m \u001b[39m# decouple these so the patch can be in the background and the\u001b[39;00m\n\u001b[0;32m   <a href='file:///c%3A/Users/Angel/Documents/GitHub/MAT-243-J4480-applied-statistics/venv/lib/site-packages/matplotlib/axes/_base.py?line=3039'>3040</a>\u001b[0m \u001b[39m# frame in the foreground. Do this before drawing the axis\u001b[39;00m\n\u001b[0;32m   <a href='file:///c%3A/Users/Angel/Documents/GitHub/MAT-243-J4480-applied-statistics/venv/lib/site-packages/matplotlib/axes/_base.py?line=3040'>3041</a>\u001b[0m \u001b[39m# objects so that the spine has the opportunity to update them.\u001b[39;00m\n\u001b[1;32m-> <a href='file:///c%3A/Users/Angel/Documents/GitHub/MAT-243-J4480-applied-statistics/venv/lib/site-packages/matplotlib/axes/_base.py?line=3041'>3042</a>\u001b[0m \u001b[39mif\u001b[39;00m \u001b[39mnot\u001b[39;00m (\u001b[39mself\u001b[39m\u001b[39m.\u001b[39maxison \u001b[39mand\u001b[39;00m \u001b[39mself\u001b[39m\u001b[39m.\u001b[39m_frameon):\n\u001b[0;32m   <a href='file:///c%3A/Users/Angel/Documents/GitHub/MAT-243-J4480-applied-statistics/venv/lib/site-packages/matplotlib/axes/_base.py?line=3042'>3043</a>\u001b[0m     \u001b[39mfor\u001b[39;00m spine \u001b[39min\u001b[39;00m \u001b[39mself\u001b[39m\u001b[39m.\u001b[39mspines\u001b[39m.\u001b[39mvalues():\n\u001b[0;32m   <a href='file:///c%3A/Users/Angel/Documents/GitHub/MAT-243-J4480-applied-statistics/venv/lib/site-packages/matplotlib/axes/_base.py?line=3043'>3044</a>\u001b[0m         artists\u001b[39m.\u001b[39mremove(spine)\n",
      "File \u001b[1;32mc:\\Users\\Angel\\Documents\\GitHub\\MAT-243-J4480-applied-statistics\\venv\\lib\\site-packages\\pandas\\core\\generic.py:1535\u001b[0m, in \u001b[0;36mNDFrame.__nonzero__\u001b[1;34m(self)\u001b[0m\n\u001b[0;32m   <a href='file:///c%3A/Users/Angel/Documents/GitHub/MAT-243-J4480-applied-statistics/venv/lib/site-packages/pandas/core/generic.py?line=1532'>1533</a>\u001b[0m \u001b[39m@final\u001b[39m\n\u001b[0;32m   <a href='file:///c%3A/Users/Angel/Documents/GitHub/MAT-243-J4480-applied-statistics/venv/lib/site-packages/pandas/core/generic.py?line=1533'>1534</a>\u001b[0m \u001b[39mdef\u001b[39;00m \u001b[39m__nonzero__\u001b[39m(\u001b[39mself\u001b[39m):\n\u001b[1;32m-> <a href='file:///c%3A/Users/Angel/Documents/GitHub/MAT-243-J4480-applied-statistics/venv/lib/site-packages/pandas/core/generic.py?line=1534'>1535</a>\u001b[0m     \u001b[39mraise\u001b[39;00m \u001b[39mValueError\u001b[39;00m(\n\u001b[0;32m   <a href='file:///c%3A/Users/Angel/Documents/GitHub/MAT-243-J4480-applied-statistics/venv/lib/site-packages/pandas/core/generic.py?line=1535'>1536</a>\u001b[0m         \u001b[39mf\u001b[39m\u001b[39m\"\u001b[39m\u001b[39mThe truth value of a \u001b[39m\u001b[39m{\u001b[39;00m\u001b[39mtype\u001b[39m(\u001b[39mself\u001b[39m)\u001b[39m.\u001b[39m\u001b[39m__name__\u001b[39m\u001b[39m}\u001b[39;00m\u001b[39m is ambiguous. \u001b[39m\u001b[39m\"\u001b[39m\n\u001b[0;32m   <a href='file:///c%3A/Users/Angel/Documents/GitHub/MAT-243-J4480-applied-statistics/venv/lib/site-packages/pandas/core/generic.py?line=1536'>1537</a>\u001b[0m         \u001b[39m\"\u001b[39m\u001b[39mUse a.empty, a.bool(), a.item(), a.any() or a.all().\u001b[39m\u001b[39m\"\u001b[39m\n\u001b[0;32m   <a href='file:///c%3A/Users/Angel/Documents/GitHub/MAT-243-J4480-applied-statistics/venv/lib/site-packages/pandas/core/generic.py?line=1537'>1538</a>\u001b[0m     )\n",
      "\u001b[1;31mValueError\u001b[0m: The truth value of a DataFrame is ambiguous. Use a.empty, a.bool(), a.item(), a.any() or a.all()."
     ]
    },
    {
     "data": {
      "text/plain": [
       "<Figure size 432x288 with 1 Axes>"
      ]
     },
     "metadata": {
      "needs_background": "light"
     },
     "output_type": "display_data"
    }
   ],
   "source": [
    "data = [1, 1, 1, 3, 6, 13, 19, 23, 24, 36, 37, 40, 61, 65, 72]\n",
    "df = pd.DataFrame(data)\n",
    "\n",
    "plt.box(df)"
   ]
  },
  {
   "cell_type": "code",
   "execution_count": null,
   "metadata": {},
   "outputs": [],
   "source": []
  }
 ],
 "metadata": {
  "interpreter": {
   "hash": "118673619f5b0bc106dd64d7c79e87dd6f1674b77de6024f4dedd4f9d181e84a"
  },
  "kernelspec": {
   "display_name": "Python 3.10.1 ('venv': venv)",
   "language": "python",
   "name": "python3"
  },
  "language_info": {
   "codemirror_mode": {
    "name": "ipython",
    "version": 3
   },
   "file_extension": ".py",
   "mimetype": "text/x-python",
   "name": "python",
   "nbconvert_exporter": "python",
   "pygments_lexer": "ipython3",
   "version": "3.10.1"
  },
  "orig_nbformat": 4
 },
 "nbformat": 4,
 "nbformat_minor": 2
}
