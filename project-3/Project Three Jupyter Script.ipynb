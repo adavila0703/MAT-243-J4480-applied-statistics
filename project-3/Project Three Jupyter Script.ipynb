{
 "cells": [
  {
   "cell_type": "markdown",
   "metadata": {},
   "source": [
    "# Project Three: Simple Linear Regression and Multiple Regression\n",
    "\n",
    "This notebook contains step-by-step directions for Project Three. It is very important to run through the steps in order. Some steps depend on the outputs of earlier steps. Once you have completed the steps in this notebook, be sure to write your summary report. \n",
    "\n",
    "\n",
    "You are a data analyst for a basketball team and have access to a large set of historical data that you can use to analyze performance patterns. The coach of the team and your management have requested that you come up with regression models that predict the total number of wins for a team in the regular season based on key performance metrics. Although the data set is the same that you used in the previous projects, the data set used here has been aggregated to study the total number of wins in a regular season based on performance metrics shown in the table below. These regression models will help make key decisions to improve the performance of the team. You will use the Python programming language to perform the statistical analyses and then prepare a report of your findings to present for the team’s management. Since the managers are not data analysts, you will need to interpret your findings and describe their practical implications. \n",
    "\n",
    "There are four important variables in the data set that you will utilize in Project Three. \n",
    "\n",
    "\n",
    "| <div style=\"text-align: left\"> Variable </div>  |   <div style=\"text-align: left\"> What does it represent </div> |\n",
    "| -- | --  |\n",
    "| <div style=\"text-align: left\"> total_wins </div> | <div style=\"text-align: left\"> Total number of wins in a regular season </div> |\n",
    "| <div style=\"text-align: left\"> avg_pts </div> | <div style=\"text-align: left\"> Average points scored in a regular season </div> |\n",
    "| <div style=\"text-align: left\"> avg_elo_n </div> | <div style=\"text-align: left\"> Average relative skill of each team in a regular season</div> |\n",
    "| <div style=\"text-align: left\"> avg_pts_differential </div> | <div style=\"text-align: left\"> Average point differential between the team and their opponents in a regular season </div> |\n",
    "\n",
    "\n",
    "The average relative skill (represented by the variable **avg_elo_n** in the data set) is simply the average of a team's relative skill in a regular season. Relative skill is measured using the ELO rating. This measure is inferred based on the final score of a game, the game location, and the outcome of the game relative to the probability of that outcome. The higher the number, the higher the relative skill of a team. \n",
    "\n",
    "\n",
    "Reminder: It may be beneficial to review the summary report document for Project Three prior to starting this Python script. That will give you an idea of the questions you will need to answer with the outputs of this script.\n",
    "\n",
    "**-------------------------------------------------------------------------------------------------------------------------------------------------------------**"
   ]
  },
  {
   "cell_type": "markdown",
   "metadata": {},
   "source": [
    " "
   ]
  },
  {
   "cell_type": "markdown",
   "metadata": {},
   "source": [
    "## Step 1: Data Preparation\n",
    "This step uploads the data set from a CSV file and transforms the data into a form that will be used to create regression models. The data will be aggregated to calculate the number of wins for teams in a basketball regular season between the years 1995 and 2015. \n",
    "\n",
    "Click the block of code below and hit the **Run** button above."
   ]
  },
  {
   "cell_type": "code",
   "execution_count": 40,
   "metadata": {
    "scrolled": true
   },
   "outputs": [
    {
     "data": {
      "text/html": [
       "<table border=\"1\" class=\"dataframe\">\n",
       "  <thead>\n",
       "    <tr style=\"text-align: right;\">\n",
       "      <th></th>\n",
       "      <th>year_id</th>\n",
       "      <th>fran_id</th>\n",
       "      <th>avg_pts</th>\n",
       "      <th>avg_opp_pts</th>\n",
       "      <th>avg_elo_n</th>\n",
       "      <th>avg_opp_elo_n</th>\n",
       "      <th>avg_pts_differential</th>\n",
       "      <th>avg_elo_differential</th>\n",
       "      <th>total_wins</th>\n",
       "    </tr>\n",
       "  </thead>\n",
       "  <tbody>\n",
       "    <tr>\n",
       "      <th>0</th>\n",
       "      <td>1995</td>\n",
       "      <td>Bucks</td>\n",
       "      <td>99.341463</td>\n",
       "      <td>103.707317</td>\n",
       "      <td>1368.604789</td>\n",
       "      <td>1497.311587</td>\n",
       "      <td>-4.365854</td>\n",
       "      <td>-128.706798</td>\n",
       "      <td>34</td>\n",
       "    </tr>\n",
       "    <tr>\n",
       "      <th>1</th>\n",
       "      <td>1995</td>\n",
       "      <td>Bulls</td>\n",
       "      <td>101.524390</td>\n",
       "      <td>96.695122</td>\n",
       "      <td>1569.892129</td>\n",
       "      <td>1488.199352</td>\n",
       "      <td>4.829268</td>\n",
       "      <td>81.692777</td>\n",
       "      <td>47</td>\n",
       "    </tr>\n",
       "    <tr>\n",
       "      <th>2</th>\n",
       "      <td>1995</td>\n",
       "      <td>Cavaliers</td>\n",
       "      <td>90.451220</td>\n",
       "      <td>89.829268</td>\n",
       "      <td>1542.433391</td>\n",
       "      <td>1498.848261</td>\n",
       "      <td>0.621951</td>\n",
       "      <td>43.585130</td>\n",
       "      <td>43</td>\n",
       "    </tr>\n",
       "    <tr>\n",
       "      <th>3</th>\n",
       "      <td>1995</td>\n",
       "      <td>Celtics</td>\n",
       "      <td>102.780488</td>\n",
       "      <td>104.658537</td>\n",
       "      <td>1431.307532</td>\n",
       "      <td>1495.936224</td>\n",
       "      <td>-1.878049</td>\n",
       "      <td>-64.628693</td>\n",
       "      <td>35</td>\n",
       "    </tr>\n",
       "    <tr>\n",
       "      <th>4</th>\n",
       "      <td>1995</td>\n",
       "      <td>Clippers</td>\n",
       "      <td>96.670732</td>\n",
       "      <td>105.829268</td>\n",
       "      <td>1309.053701</td>\n",
       "      <td>1517.260260</td>\n",
       "      <td>-9.158537</td>\n",
       "      <td>-208.206558</td>\n",
       "      <td>17</td>\n",
       "    </tr>\n",
       "  </tbody>\n",
       "</table>"
      ],
      "text/plain": [
       "<IPython.core.display.HTML object>"
      ]
     },
     "metadata": {},
     "output_type": "display_data"
    },
    {
     "name": "stdout",
     "output_type": "stream",
     "text": [
      "printed only the first five observations...\n",
      "Number of rows in the dataset = 618\n"
     ]
    }
   ],
   "source": [
    "import numpy as np\n",
    "import pandas as pd\n",
    "import scipy.stats as st\n",
    "import matplotlib.pyplot as plt\n",
    "from IPython.display import display, HTML\n",
    "\n",
    "# dataframe for this project\n",
    "nba_wins_df = pd.read_csv('nba_wins_data.csv')\n",
    "\n",
    "display(HTML(nba_wins_df.head().to_html()))\n",
    "print(\"printed only the first five observations...\")\n",
    "print(\"Number of rows in the dataset =\", len(nba_wins_df))"
   ]
  },
  {
   "cell_type": "markdown",
   "metadata": {},
   "source": [
    " "
   ]
  },
  {
   "cell_type": "markdown",
   "metadata": {},
   "source": [
    "## Step 2: Scatterplot and Correlation for the Total Number of Wins and Average Points Scored\n",
    "Your coach expects teams to win more games in a regular season if they have a high average number of points compared to their opponents. This is because the chances of winning are higher if a team scores high in its games. Therefore, it is expected that the total number of wins and the average points scored are correlated. Calculate the Pearson correlation coefficient and its P-value. Make the following edits to the code block below:\n",
    "\n",
    "1. <font color='red'> Replace <strong>??DATAFRAME_NAME??</strong> with the name of the dataframe used in this project. </font> See Step 1 for the name of dataframe used in this project. \n",
    "\n",
    "\n",
    "2. <font color='red'> Replace <strong>??POINTS??</strong> with the name of the variable for average points scored in a regular season.</font> See the table included in the Project Three instructions above to pick the variable name. Enclose this variable in single quotes. For example, if the variable name is **var1** then replace ??POINTS?? with 'var1'.\n",
    "\n",
    "\n",
    "3. <font color='red'> Replace <strong>??WINS??</strong> with the name of the variable for the total number of wins in a regular season. Remember to enclose the variable in single quotes.</font> See the table included in the Project Three instructions above to pick the variable name. Enclose this variable in single quotes. For example, if the variable name is **var2** then replace ??WINS?? with 'var2'.\n",
    "\n",
    "\n",
    "The code block below will print a scatterplot of the total number of wins against the average points scored in a regular season. \n",
    "\n",
    "After you are done with your edits, click the block of code below and hit the **Run** button above."
   ]
  },
  {
   "cell_type": "code",
   "execution_count": 41,
   "metadata": {
    "scrolled": true
   },
   "outputs": [
    {
     "data": {
      "image/png": "[encoded data removed]",
      "text/plain": [
       "<Figure size 432x288 with 1 Axes>"
      ]
     },
     "metadata": {
      "needs_background": "light"
     },
     "output_type": "display_data"
    },
    {
     "name": "stdout",
     "output_type": "stream",
     "text": [
      "Correlation between Average Points Scored and the Total Number of Wins \n",
      "Pearson Correlation Coefficient = 0.4777\n",
      "P-value = 0.0\n"
     ]
    }
   ],
   "source": [
    "import scipy.stats as st\n",
    "\n",
    "total_wins = 'total_wins'\n",
    "avg_points = 'avg_pts'\n",
    "avg_elo = 'avg_elo_n'\n",
    "plt.plot(nba_wins_df[avg_points], nba_wins_df[total_wins], 'o')\n",
    "\n",
    "plt.title('Total Number of Wins by Average Points Scored', fontsize=20)\n",
    "plt.xlabel('Average Points Scored')\n",
    "plt.ylabel('Total Number of Wins')\n",
    "plt.show()\n",
    "\n",
    "\n",
    "# ---- TODO: make your edits here ----\n",
    "correlation_coefficient, p_value = st.pearsonr(nba_wins_df[avg_points], nba_wins_df[total_wins])\n",
    "\n",
    "print(\"Correlation between Average Points Scored and the Total Number of Wins \")\n",
    "print(\"Pearson Correlation Coefficient =\",  round(correlation_coefficient,4))\n",
    "print(\"P-value =\", round(p_value,4))"
   ]
  },
  {
   "cell_type": "markdown",
   "metadata": {},
   "source": [
    " "
   ]
  },
  {
   "cell_type": "markdown",
   "metadata": {},
   "source": [
    "## Step 3: Simple Linear Regression: Predicting the Total Number of Wins using Average Points Scored\n",
    "\n",
    "The coach of your team suggests a simple linear regression model with the total number of wins as the response variable and the average points scored as the predictor variable. He expects a team to have more wins in a season if it scores a high average points during that season. This regression model will help your coach predict how many games your team might win in a regular season if they maintain a certain average score. Create this simple linear regression model. Make the following edits to the code block below:\n",
    "\n",
    "1. <font color='red'> Replace <strong>??RESPONSE_VARIABLE??</strong> with the variable name that is being predicted. </font> See the table included in the Project Three instructions above to pick the variable name. Do not enclose this variable in quotes. For example, if the variable name is **var1** then replace ??RESPONSE_VARIABLE?? with var1.\n",
    "\n",
    "\n",
    "2. <font color='red'> Replace <strong>??PREDICTOR_VARIABLE??</strong> with the variable name that is the predictor. </font> See the table included in Project Three instructions above to pick the variable name. Do not enclose this variable in quotes. For example, if the variable name is **var2** then replace ??PREDICTOR_VARIABLE?? with var2.\n",
    "\n",
    "\n",
    "For example, if the variable names are **var1** for the response variable and **var2** for the predictor variable, then the expression in the code block below should be:\n",
    "model = smf.ols('var1 ~ var2', nba_wins_df).fit()\n",
    "\n",
    "After you are done with your edits, click the block of code below and hit the **Run** button above."
   ]
  },
  {
   "cell_type": "code",
   "execution_count": 42,
   "metadata": {
    "scrolled": true
   },
   "outputs": [
    {
     "name": "stdout",
     "output_type": "stream",
     "text": [
      "                            OLS Regression Results                            \n",
      "==============================================================================\n",
      "Dep. Variable:             total_wins   R-squared:                       0.228\n",
      "Model:                            OLS   Adj. R-squared:                  0.227\n",
      "Method:                 Least Squares   F-statistic:                     182.1\n",
      "Date:                Sun, 17 Apr 2022   Prob (F-statistic):           1.52e-36\n",
      "Time:                        21:31:34   Log-Likelihood:                -2385.4\n",
      "No. Observations:                 618   AIC:                             4775.\n",
      "Df Residuals:                     616   BIC:                             4784.\n",
      "Df Model:                           1                                         \n",
      "Covariance Type:            nonrobust                                         \n",
      "==============================================================================\n",
      "                 coef    std err          t      P>|t|      [0.025      0.975]\n",
      "------------------------------------------------------------------------------\n",
      "Intercept    -85.5476      9.305     -9.194      0.000    -103.820     -67.275\n",
      "avg_pts        1.2849      0.095     13.495      0.000       1.098       1.472\n",
      "==============================================================================\n",
      "Omnibus:                       24.401   Durbin-Watson:                   1.768\n",
      "Prob(Omnibus):                  0.000   Jarque-Bera (JB):               11.089\n",
      "Skew:                          -0.033   Prob(JB):                      0.00391\n",
      "Kurtosis:                       2.347   Cond. No.                     1.97e+03\n",
      "==============================================================================\n",
      "\n",
      "Notes:\n",
      "[1] Standard Errors assume that the covariance matrix of the errors is correctly specified.\n",
      "[2] The condition number is large, 1.97e+03. This might indicate that there are\n",
      "strong multicollinearity or other numerical problems.\n",
      "                            OLS Regression Results                            \n",
      "==============================================================================\n",
      "Dep. Variable:             total_wins   R-squared:                       0.823\n",
      "Model:                            OLS   Adj. R-squared:                  0.823\n",
      "Method:                 Least Squares   F-statistic:                     2865.\n",
      "Date:                Sun, 17 Apr 2022   Prob (F-statistic):          8.06e-234\n",
      "Time:                        21:31:34   Log-Likelihood:                -1930.3\n",
      "No. Observations:                 618   AIC:                             3865.\n",
      "Df Residuals:                     616   BIC:                             3873.\n",
      "Df Model:                           1                                         \n",
      "Covariance Type:            nonrobust                                         \n",
      "==============================================================================\n",
      "                 coef    std err          t      P>|t|      [0.025      0.975]\n",
      "------------------------------------------------------------------------------\n",
      "Intercept   -128.2475      3.149    -40.731      0.000    -134.431    -122.064\n",
      "avg_elo_n      0.1121      0.002     53.523      0.000       0.108       0.116\n",
      "==============================================================================\n",
      "Omnibus:                      152.822   Durbin-Watson:                   1.098\n",
      "Prob(Omnibus):                  0.000   Jarque-Bera (JB):              393.223\n",
      "Skew:                          -1.247   Prob(JB):                     4.10e-86\n",
      "Kurtosis:                       6.009   Cond. No.                     2.14e+04\n",
      "==============================================================================\n",
      "\n",
      "Notes:\n",
      "[1] Standard Errors assume that the covariance matrix of the errors is correctly specified.\n",
      "[2] The condition number is large, 2.14e+04. This might indicate that there are\n",
      "strong multicollinearity or other numerical problems.\n"
     ]
    }
   ],
   "source": [
    "import statsmodels.formula.api as smf\n",
    "\n",
    "model1 = smf.ols(f'{total_wins} ~ {avg_points}', nba_wins_df).fit()\n",
    "with_elo = smf.ols(f'{total_wins} ~ {avg_elo}', nba_wins_df).fit()\n",
    "print(model1.summary())\n",
    "print(with_elo.summary())"
   ]
  },
  {
   "cell_type": "markdown",
   "metadata": {},
   "source": [
    " "
   ]
  },
  {
   "cell_type": "markdown",
   "metadata": {},
   "source": [
    "## Step 4: Scatterplot and Correlation for the Total Number of Wins and Average Relative Skill\n",
    "Your management expects the team to win more games in the regular season if it maintains a high average relative skill compared to other teams. Therefore, it is expected that the total number of wins and the average relative skill are correlated. Calculate the Pearson correlation coefficient and its P-value. Make the following edits to the code block below:\n",
    "\n",
    "1. <font color='red'> Replace <strong>??DATAFRAME_NAME??</strong> with the name of the dataframe used in this project. </font> See Step 1 for the name of dataframe used in this project.\n",
    "\n",
    "\n",
    "2. <font color='red'> Replace <strong>??RELATIVE_SKILL??</strong> with the name of the variable for average relative skill in a regular season.</font> See the table included in the Project Three instructions above to pick the variable name. Enclose this variable in single quotes. For example, if the variable name is **var2** then replace ??RELATIVE_SKILL?? with 'var2'.\n",
    "\n",
    "\n",
    "3. <font color='red'> Replace <strong>??WINS??</strong> with the name of the variable for total number of wins in a regular season.</font> See the table included in Project Three instructions above to pick the variable name. Enclose this variable in single quotes. For example, if the variable name is **var3** then replace ??WINS?? with 'var3'.\n",
    "\n",
    "The code block below will print a scatterplot of the total number of wins against the average relative skill in a regular season. \n",
    "\n",
    "After you are done with your edits, click the block of code below and hit the **Run** button above."
   ]
  },
  {
   "cell_type": "code",
   "execution_count": 43,
   "metadata": {
    "scrolled": false
   },
   "outputs": [
    {
     "data": {
      "image/png": "[encoded data removed]",
      "text/plain": [
       "<Figure size 432x288 with 1 Axes>"
      ]
     },
     "metadata": {
      "needs_background": "light"
     },
     "output_type": "display_data"
    },
    {
     "name": "stdout",
     "output_type": "stream",
     "text": [
      "Correlation between Average Relative Skill and Total Number of Wins \n",
      "Pearson Correlation Coefficient = 0.9072\n",
      "P-value = 0.0\n"
     ]
    }
   ],
   "source": [
    "\n",
    "plt.plot(nba_wins_df[avg_elo], nba_wins_df[total_wins], 'o')\n",
    "\n",
    "plt.title('Wins by Average Relative Skill', fontsize=20)\n",
    "plt.xlabel('Average Relative Skill')\n",
    "plt.ylabel('Total Number of Wins')\n",
    "plt.show()\n",
    "\n",
    "# ---- TODO: make your edits here ---\n",
    "correlation_coefficient, p_value = st.pearsonr(nba_wins_df[avg_elo], nba_wins_df[total_wins])\n",
    "\n",
    "print(\"Correlation between Average Relative Skill and Total Number of Wins \")\n",
    "print(\"Pearson Correlation Coefficient =\",  round(correlation_coefficient,4))\n",
    "print(\"P-value =\", round(p_value,4))"
   ]
  },
  {
   "cell_type": "markdown",
   "metadata": {},
   "source": [
    " "
   ]
  },
  {
   "cell_type": "markdown",
   "metadata": {},
   "source": [
    "## Step 5: Multiple Regression: Predicting the Total Number of Wins using Average Points Scored and Average Relative Skill\n",
    "\n",
    "Instead of presenting a simple linear regression model to the coach, you can suggest a multiple regression model with the total number of wins as the response variable and the average points scored and the average relative skill as predictor variables. This regression model will help your coach predict how many games your team might win in a regular season based on metrics like the average points scored and average relative skill. This model is more practical because you expect more than one performance metric to determine the total number of wins in a regular season. Create this multiple regression model. Make the following edits to the code block below:\n",
    "\n",
    "1. <font color='red'> Replace <strong>??RESPONSE_VARIABLE??</strong> with the variable name that is being predicted. </font> See the table included in the Project Three instructions above.  Do not enclose this variable in quotes. For example, if the variable name is **var0** then replace ??RESPONSE_VARIABLE?? with var0.\n",
    "\n",
    "\n",
    "2. <font color='red'> Replace <strong>??PREDICTOR_VARIABLE_1??</strong> with the variable name for average points scored. </font> Hint: See the table included in the Project Three instructions above. Do not enclose this variable in quotes. For example, if the variable name is **var1** then replace ??PREDICTOR_VARIABLE_1?? with var1.\n",
    "\n",
    "\n",
    "2. <font color='red'> Replace <strong>??PREDICTOR_VARIABLE_2??</strong> with the variable name for average relative skill. </font> Hint: See the table included in the Project Three instructions above. Do not enclose this variable in quotes. For example, if the variable name is **var2** then replace ??PREDICTOR_VARIABLE_2?? with var2.\n",
    "\n",
    "\n",
    "For example, if the variable names are **var0** for the response variable and **var1**, **var2** for the predictor variables, then the expression in the code block below should be:\n",
    "model = smf.ols('var0 ~ var1 + var2', nba_wins_df).fit()\n",
    "\n",
    "After you are done with your edits, click the block of code below and hit the **Run** button above."
   ]
  },
  {
   "cell_type": "code",
   "execution_count": 44,
   "metadata": {},
   "outputs": [
    {
     "name": "stdout",
     "output_type": "stream",
     "text": [
      "                            OLS Regression Results                            \n",
      "==============================================================================\n",
      "Dep. Variable:             total_wins   R-squared:                       0.837\n",
      "Model:                            OLS   Adj. R-squared:                  0.837\n",
      "Method:                 Least Squares   F-statistic:                     1580.\n",
      "Date:                Sun, 17 Apr 2022   Prob (F-statistic):          4.41e-243\n",
      "Time:                        21:31:35   Log-Likelihood:                -1904.6\n",
      "No. Observations:                 618   AIC:                             3815.\n",
      "Df Residuals:                     615   BIC:                             3829.\n",
      "Df Model:                           2                                         \n",
      "Covariance Type:            nonrobust                                         \n",
      "==============================================================================\n",
      "                 coef    std err          t      P>|t|      [0.025      0.975]\n",
      "------------------------------------------------------------------------------\n",
      "Intercept   -152.5736      4.500    -33.903      0.000    -161.411    -143.736\n",
      "avg_pts        0.3497      0.048      7.297      0.000       0.256       0.444\n",
      "avg_elo_n      0.1055      0.002     47.952      0.000       0.101       0.110\n",
      "==============================================================================\n",
      "Omnibus:                       89.087   Durbin-Watson:                   1.203\n",
      "Prob(Omnibus):                  0.000   Jarque-Bera (JB):              160.540\n",
      "Skew:                          -0.869   Prob(JB):                     1.38e-35\n",
      "Kurtosis:                       4.793   Cond. No.                     3.19e+04\n",
      "==============================================================================\n",
      "\n",
      "Notes:\n",
      "[1] Standard Errors assume that the covariance matrix of the errors is correctly specified.\n",
      "[2] The condition number is large, 3.19e+04. This might indicate that there are\n",
      "strong multicollinearity or other numerical problems.\n"
     ]
    }
   ],
   "source": [
    "import statsmodels.formula.api as smf\n",
    "\n",
    "# Multiple Regression\n",
    "model2 = smf.ols(f'{total_wins} ~ {avg_points} + {avg_elo}', nba_wins_df).fit()\n",
    "print(model2.summary())"
   ]
  },
  {
   "cell_type": "markdown",
   "metadata": {},
   "source": [
    " "
   ]
  },
  {
   "cell_type": "markdown",
   "metadata": {},
   "source": [
    " "
   ]
  },
  {
   "cell_type": "markdown",
   "metadata": {},
   "source": [
    "## Step 6: Multiple Regression: Predicting the Total Number of Wins using Average Points Scored, Average Relative Skill, and Average Points Differential\n",
    "\n",
    "The coach also wants you to consider the average points differential as a predictor variable in the multiple regression model. Create a multiple regression model with the total number of wins as the response variable, and average points scored, average relative skill, and average points differential as predictor variables. This regression model will help your coach predict how many games your team might win in a regular season based on metrics like the average score, average relative skill, and the average points differential between the team and their opponents. \n",
    "\n",
    "<font><strong>You are to write this code block yourself.</strong></font> \n",
    "\n",
    "Use Step 5 to help you write this code block. Here is some information that will help you write this code block. Reach out to your instructor if you need help.\n",
    "\n",
    "1. <font color='red'> The dataframe used in this project is called nba_wins_df. </font>\n",
    "2. <font color='red'> The variable **avg_pts** represents average points scored by each team in a regular season. </font>\n",
    "3. <font color='red'> The variable **avg_elo_n** represents average relative skill of each team in a regular season. </font>\n",
    "4. <font color='red'> The variable **avg_pts_differential** represents average points differential between each team and their opponents in a regular season. </font>\n",
    "5. <font color='red'> Print the model summary. </font>\n",
    "\n",
    "Write your code in the code block section below. After you are done, click this block of code and hit the **Run** button above. Reach out to your instructor if you need more help with this step."
   ]
  },
  {
   "cell_type": "code",
   "execution_count": 45,
   "metadata": {},
   "outputs": [
    {
     "name": "stdout",
     "output_type": "stream",
     "text": [
      "                            OLS Regression Results                            \n",
      "==============================================================================\n",
      "Dep. Variable:             total_wins   R-squared:                       0.878\n",
      "Model:                            OLS   Adj. R-squared:                  0.877\n",
      "Method:                 Least Squares   F-statistic:                     1102.\n",
      "Date:                Sun, 17 Apr 2022   Prob (F-statistic):          3.07e-278\n",
      "Time:                        21:31:35   Log-Likelihood:                -1815.5\n",
      "No. Observations:                 618   AIC:                             3641.\n",
      "Df Residuals:                     613   BIC:                             3663.\n",
      "Df Model:                           4                                         \n",
      "Covariance Type:            nonrobust                                         \n",
      "========================================================================================\n",
      "                           coef    std err          t      P>|t|      [0.025      0.975]\n",
      "----------------------------------------------------------------------------------------\n",
      "Intercept               34.5753     25.867      1.337      0.182     -16.223      85.373\n",
      "avg_pts                  0.2597      0.043      6.070      0.000       0.176       0.344\n",
      "avg_elo_n               -0.0134      0.017     -0.769      0.442      -0.048       0.021\n",
      "avg_pts_differential     1.6206      0.135     12.024      0.000       1.356       1.885\n",
      "avg_elo_differential     0.0525      0.018      2.915      0.004       0.017       0.088\n",
      "==============================================================================\n",
      "Omnibus:                      193.608   Durbin-Watson:                   0.979\n",
      "Prob(Omnibus):                  0.000   Jarque-Bera (JB):              598.416\n",
      "Skew:                          -1.503   Prob(JB):                    1.14e-130\n",
      "Kurtosis:                       6.769   Cond. No.                     2.11e+05\n",
      "==============================================================================\n",
      "\n",
      "Notes:\n",
      "[1] Standard Errors assume that the covariance matrix of the errors is correctly specified.\n",
      "[2] The condition number is large, 2.11e+05. This might indicate that there are\n",
      "strong multicollinearity or other numerical problems.\n"
     ]
    }
   ],
   "source": [
    "avg_pts_diff = 'avg_pts_differential'\n",
    "avg_elo_differential = 'avg_elo_differential'\n",
    "model2 = smf.ols(f'{total_wins} ~ {avg_points} + {avg_elo} + {avg_pts_diff} + {avg_elo_differential}', nba_wins_df).fit()\n",
    "print(model2.summary())\n"
   ]
  },
  {
   "cell_type": "markdown",
   "metadata": {},
   "source": [
    " "
   ]
  },
  {
   "cell_type": "markdown",
   "metadata": {},
   "source": [
    "## End of Project Three\n",
    "Download the HTML output and submit it with your summary report for Project Three. The HTML output can be downloaded by clicking **File**, then **Download as**, then **HTML**. Do not include the Python code within your summary report."
   ]
  },
  {
   "cell_type": "code",
   "execution_count": null,
   "metadata": {},
   "outputs": [],
   "source": []
  }
 ],
 "metadata": {
  "kernelspec": {
   "display_name": "Python 3",
   "language": "python",
   "name": "python3"
  },
  "language_info": {
   "codemirror_mode": {
    "name": "ipython",
    "version": 3
   },
   "file_extension": ".py",
   "mimetype": "text/x-python",
   "name": "python",
   "nbconvert_exporter": "python",
   "pygments_lexer": "ipython3",
   "version": "3.7.2"
  }
 },
 "nbformat": 4,
 "nbformat_minor": 2
}
